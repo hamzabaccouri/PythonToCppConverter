{
 "cells": [
  {
   "cell_type": "code",
   "execution_count": 1,
   "id": "4955584a",
   "metadata": {},
   "outputs": [],
   "source": [
    "#imports \n",
    "\n",
    "import os \n",
    "import io \n",
    "import sys\n",
    "from dotenv import load_dotenv\n",
    "from openai import OpenAI\n",
    "import anthropic \n",
    "from IPython.display import Markdown, display, update_display\n",
    "import gradio as gr\n",
    "import subprocess\n"
   ]
  },
  {
   "cell_type": "code",
   "execution_count": 2,
   "id": "e017291d",
   "metadata": {},
   "outputs": [],
   "source": [
    "#load environment\n",
    "\n",
    "load_dotenv()\n",
    "os.environ['OPENAI_API_KEY'] = os.getenv('OPENAI_API_KEY', 'your-key-if-not-using-env')\n",
    "os.environ['ANTHROPIC_API_KEY'] = os.getenv('ANTHROPIC_API_KEY', 'your-key-if-not-using-env')\n"
   ]
  },
  {
   "cell_type": "code",
   "execution_count": 3,
   "id": "dba1a9a3",
   "metadata": {},
   "outputs": [],
   "source": [
    "openai = OpenAI()\n",
    "claude = anthropic.Anthropic()\n",
    "OPENAI_MODEL = 'gpt-4o'\n",
    "CLAUDE_MODEL = 'claude-3-5-sonnet-20240620'\n",
    " "
   ]
  },
  {
   "cell_type": "code",
   "execution_count": 4,
   "id": "9ae54224",
   "metadata": {},
   "outputs": [],
   "source": [
    "system_message = \"You are an assistant that reimplements Python code in high performance C++. \"\n",
    "system_message += \"Respond only with C++ code; use comments sparingly and do not provide any explanation other than occasional comments. \"\n",
    "system_message += \"The C++ response needs to produce an identical output in the fastest possible time.\""
   ]
  },
  {
   "cell_type": "code",
   "execution_count": 5,
   "id": "8dd5efc9",
   "metadata": {},
   "outputs": [],
   "source": [
    "def user_prompt_for(python):\n",
    "    user_prompt = \"Rewrite this Python code in C++ with the fastest possible implementation that produces identical output in the least time. \"\n",
    "    user_prompt += \"Respond only with C++ code; do not explain your work other than a few comments. \"\n",
    "    user_prompt += \"Pay attention to number types to ensure no int overflows. Remember to #include all necessary C++ packages such as iomanip.\\n\\n\"\n",
    "    user_prompt += python\n",
    "    return user_prompt"
   ]
  },
  {
   "cell_type": "code",
   "execution_count": 6,
   "id": "18a9ff86",
   "metadata": {},
   "outputs": [],
   "source": [
    "def messages_for(python):\n",
    "    return[\n",
    "        {\"role\": \"system\", \"content\": system_message},\n",
    "        {\"role\": \"user\", \"content\": user_prompt_for(python)}\n",
    "    ]"
   ]
  },
  {
   "cell_type": "code",
   "execution_count": 7,
   "id": "ca93fe98",
   "metadata": {},
   "outputs": [],
   "source": [
    "# write to a file called optimized.cpp\n",
    "\n",
    "def write_output(cpp):\n",
    "    code = cpp.replace(\"```cpp\",\"\").replace(\"```\",\"\")\n",
    "    with open(\"optimized.cpp\", \"w\") as f:\n",
    "        f.write(code)"
   ]
  },
  {
   "cell_type": "code",
   "execution_count": 8,
   "id": "1b6e6035",
   "metadata": {},
   "outputs": [],
   "source": [
    "def optimize_gpt(python):\n",
    "    # Create a streaming completion using the prepared messages.\n",
    "    stream = openai.chat.completions.create(model=OPENAI_MODEL, messages=messages_for(python), stream=True)\n",
    "    # Initialize an empty string to store the full reply.\n",
    "    reply = \"\"\n",
    "    # Process the streamed response.\n",
    "    for chunk in stream:\n",
    "        fragment = chunk.choices[0].delta.content or \"\"\n",
    "        reply += fragment\n",
    "        print(fragment, end='', flush=True)\n",
    "    # Save or process the complete reply.\n",
    "    write_output(reply)"
   ]
  },
  {
   "cell_type": "code",
   "execution_count": 9,
   "id": "c1ac4a95",
   "metadata": {},
   "outputs": [],
   "source": [
    "def optimize_claude(python):\n",
    "    result = claude.messages.stream(\n",
    "        model=CLAUDE_MODEL,\n",
    "        max_tokens=2000,\n",
    "        system=system_message,\n",
    "        messages=[{\"role\": \"user\", \"content\": user_prompt_for(python)}],\n",
    "    )\n",
    "    reply = \"\"\n",
    "    with result as stream:\n",
    "        for text in stream.text_stream:\n",
    "            reply += text\n",
    "            print(text, end=\"\", flush=True)\n",
    "    write_output(reply)"
   ]
  },
  {
   "cell_type": "code",
   "execution_count": 10,
   "id": "0240604d",
   "metadata": {},
   "outputs": [],
   "source": [
    "pi = \"\"\"\n",
    "import time\n",
    "\n",
    "def calculate(iterations, param1, param2):\n",
    "    result = 1.0\n",
    "    for i in range(1, iterations+1):\n",
    "        j = i * param1 - param2\n",
    "        result -= (1/j)\n",
    "        j = i * param1 + param2\n",
    "        result += (1/j)\n",
    "    return result\n",
    "\n",
    "start_time = time.time()\n",
    "result = calculate(100_000_000, 4, 1) * 4\n",
    "end_time = time.time()\n",
    "\n",
    "print(f\"Result: {result:.12f}\")\n",
    "print(f\"Execution Time: {(end_time - start_time):.6f} seconds\")\n",
    "\"\"\""
   ]
  },
  {
   "cell_type": "code",
   "execution_count": 11,
   "id": "340d3f9f",
   "metadata": {},
   "outputs": [
    {
     "name": "stdout",
     "output_type": "stream",
     "text": [
      "Result: 3.141592658589\n",
      "Execution Time: 21.239989 seconds\n"
     ]
    }
   ],
   "source": [
    "# Execute the provided Python code block as a string.\n",
    "exec(pi)"
   ]
  },
  {
   "cell_type": "code",
   "execution_count": 12,
   "id": "0c565318",
   "metadata": {},
   "outputs": [
    {
     "name": "stdout",
     "output_type": "stream",
     "text": [
      "```cpp\n",
      "#include <iostream>\n",
      "#include <iomanip>\n",
      "#include <chrono>\n",
      "\n",
      "double calculate(int iterations, int param1, int param2) {\n",
      "    double result = 1.0;\n",
      "    for (int i = 1; i <= iterations; ++i) {\n",
      "        int j = i * param1 - param2;\n",
      "        result -= (1.0 / j);\n",
      "        j = i * param1 + param2;\n",
      "        result += (1.0 / j);\n",
      "    }\n",
      "    return result;\n",
      "}\n",
      "\n",
      "int main() {\n",
      "    using namespace std::chrono;\n",
      "    \n",
      "    int iterations = 100000000;\n",
      "    int param1 = 4;\n",
      "    int param2 = 1;\n",
      "    \n",
      "    auto start_time = high_resolution_clock::now();\n",
      "    double result = calculate(iterations, param1, param2) * 4;\n",
      "    auto end_time = high_resolution_clock::now();\n",
      "    \n",
      "    duration<double> exec_time = end_time - start_time;\n",
      "    \n",
      "    std::cout << \"Result: \" << std::setprecision(12) << std::fixed << result << std::endl;\n",
      "    std::cout << \"Execution Time: \" << std::setprecision(6) << exec_time.count() << \" seconds\" << std::endl;\n",
      "    \n",
      "    return 0;\n",
      "}\n",
      "```\n"
     ]
    }
   ],
   "source": [
    "# Use OpenAI's GPT model to optimize and translate the Python code to faster C++.\n",
    "optimize_gpt(pi)"
   ]
  },
  {
   "cell_type": "markdown",
   "id": "46f18ffd",
   "metadata": {},
   "source": [
    "Compiling C++ and executing"
   ]
  },
  {
   "cell_type": "code",
   "execution_count": 13,
   "id": "e9dbe1ff",
   "metadata": {},
   "outputs": [
    {
     "name": "stdout",
     "output_type": "stream",
     "text": [
      "Result: 3.141592658590\n",
      "Execution Time: 0.231503 seconds\n"
     ]
    }
   ],
   "source": [
    "# Compile C++ and run the executable\n",
    "!g++ -O3 -std=c++17 -o optimized optimized.cpp\n",
    "!optimized.exe\n"
   ]
  },
  {
   "cell_type": "code",
   "execution_count": 14,
   "id": "f5df0780",
   "metadata": {},
   "outputs": [
    {
     "name": "stdout",
     "output_type": "stream",
     "text": [
      "#include <iostream>\n",
      "#include <iomanip>\n",
      "#include <chrono>\n",
      "\n",
      "double calculate(long long iterations, int param1, int param2) {\n",
      "    double result = 1.0;\n",
      "    #pragma omp parallel for reduction(-:result)\n",
      "    for (long long i = 1; i <= iterations; ++i) {\n",
      "        double j = static_cast<double>(i) * param1 - param2;\n",
      "        result -= 1.0 / j;\n",
      "        j = static_cast<double>(i) * param1 + param2;\n",
      "        result += 1.0 / j;\n",
      "    }\n",
      "    return result;\n",
      "}\n",
      "\n",
      "int main() {\n",
      "    auto start_time = std::chrono::high_resolution_clock::now();\n",
      "    double result = calculate(100'000'000LL, 4, 1) * 4;\n",
      "    auto end_time = std::chrono::high_resolution_clock::now();\n",
      "\n",
      "    std::cout << std::fixed << std::setprecision(12);\n",
      "    std::cout << \"Result: \" << result << std::endl;\n",
      "\n",
      "    auto duration = std::chrono::duration_cast<std::chrono::microseconds>(end_time - start_time);\n",
      "    std::cout << \"Execution Time: \" << duration.count() / 1e6 << \" seconds\" << std::endl;\n",
      "\n",
      "    return 0;\n",
      "}"
     ]
    }
   ],
   "source": [
    "# Use claude to optimize and translate the Python code to faster C++.\n",
    "optimize_claude(pi)"
   ]
  },
  {
   "cell_type": "code",
   "execution_count": 15,
   "id": "1c206ac3",
   "metadata": {},
   "outputs": [
    {
     "name": "stdout",
     "output_type": "stream",
     "text": [
      "Result: 3.141592658590\n",
      "Execution Time: 0.233033000000 seconds\n"
     ]
    }
   ],
   "source": [
    "# Compile C++ and run the executable\n",
    "!g++ -O3 -std=c++17 -o optimized optimized.cpp\n",
    "!optimized.exe\n"
   ]
  },
  {
   "cell_type": "code",
   "execution_count": 16,
   "id": "b06899cb",
   "metadata": {},
   "outputs": [],
   "source": [
    "python_hard = \"\"\"\n",
    "def lcg(seed, a=1664525, c=1013904223, m=2**32):\n",
    "    value = seed\n",
    "    while True:\n",
    "        value = (a * value + c) % m\n",
    "        yield value\n",
    "        \n",
    "def max_subarray_sum(n, seed, min_val, max_val):\n",
    "    lcg_gen = lcg(seed)\n",
    "    random_numbers = [next(lcg_gen) % (max_val - min_val + 1) + min_val for _ in range(n)]\n",
    "    max_sum = float('-inf')\n",
    "    for i in range(n):\n",
    "        current_sum = 0\n",
    "        for j in range(i, n):\n",
    "            current_sum += random_numbers[j]\n",
    "            if current_sum > max_sum:\n",
    "                max_sum = current_sum\n",
    "    return max_sum\n",
    "\n",
    "def total_max_subarray_sum(n, initial_seed, min_val, max_val):\n",
    "    total_sum = 0\n",
    "    lcg_gen = lcg(initial_seed)\n",
    "    for _ in range(20):\n",
    "        seed = next(lcg_gen)\n",
    "        total_sum += max_subarray_sum(n, seed, min_val, max_val)\n",
    "    return total_sum\n",
    "\n",
    "# Parameters\n",
    "n = 10000         # Number of random numbers\n",
    "initial_seed = 42 # Initial seed for the LCG\n",
    "min_val = -10     # Minimum value of random numbers\n",
    "max_val = 10      # Maximum value of random numbers\n",
    "\n",
    "# Timing the function\n",
    "import time\n",
    "start_time = time.time()\n",
    "result = total_max_subarray_sum(n, initial_seed, min_val, max_val)\n",
    "end_time = time.time()\n",
    "\n",
    "print(\"Total Maximum Subarray Sum (20 runs):\", result)\n",
    "print(\"Execution Time: {:.6f} seconds\".format(end_time - start_time))\n",
    "\"\"\""
   ]
  },
  {
   "cell_type": "code",
   "execution_count": 17,
   "id": "555d2b53",
   "metadata": {},
   "outputs": [
    {
     "name": "stdout",
     "output_type": "stream",
     "text": [
      "Total Maximum Subarray Sum (20 runs): 10980\n",
      "Execution Time: 58.200042 seconds\n"
     ]
    }
   ],
   "source": [
    "exec(python_hard)"
   ]
  },
  {
   "cell_type": "code",
   "execution_count": 18,
   "id": "52e463df",
   "metadata": {},
   "outputs": [
    {
     "name": "stdout",
     "output_type": "stream",
     "text": [
      "```cpp\n",
      "#include <iostream>\n",
      "#include <vector>\n",
      "#include <ctime>\n",
      "#include <limits>\n",
      "#include <cstdint>\n",
      "\n",
      "// Linear Congruential Generator\n",
      "class LCG {\n",
      "public:\n",
      "    LCG(uint32_t seed, uint32_t a = 1664525, uint32_t c = 1013904223, uint32_t m = 1U << 31)\n",
      "        : value(seed), a(a), c(c), m(m) {}\n",
      "\n",
      "    uint32_t next() {\n",
      "        value = (a * value + c) % m;\n",
      "        return value;\n",
      "    }\n",
      "\n",
      "private:\n",
      "    uint32_t value, a, c, m;\n",
      "};\n",
      "\n",
      "// Calculate the maximum subarray sum using Kadane's algorithm\n",
      "int max_subarray_sum(int n, uint32_t seed, int min_val, int max_val) {\n",
      "    LCG lcg(seed);\n",
      "    std::vector<int> random_numbers(n);\n",
      "    for (int i = 0; i < n; ++i) {\n",
      "        random_numbers[i] = lcg.next() % (max_val - min_val + 1) + min_val;\n",
      "    }\n",
      "\n",
      "    int max_sum = std::numeric_limits<int>::min(), current_sum = 0;\n",
      "    for (int i = 0; i < n; ++i) {\n",
      "        current_sum += random_numbers[i];\n",
      "        if (current_sum > max_sum)\n",
      "            max_sum = current_sum;\n",
      "        if (current_sum < 0)\n",
      "            current_sum = 0;\n",
      "    }\n",
      "\n",
      "    return max_sum;\n",
      "}\n",
      "\n",
      "// Sum of maximum subarray sums over 20 iterations\n",
      "int64_t total_max_subarray_sum(int n, uint32_t initial_seed, int min_val, int max_val) {\n",
      "    int64_t total_sum = 0;\n",
      "    LCG lcg(initial_seed);\n",
      "    for (int i = 0; i < 20; ++i) {\n",
      "        uint32_t seed = lcg.next();\n",
      "        total_sum += max_subarray_sum(n, seed, min_val, max_val);\n",
      "    }\n",
      "    return total_sum;\n",
      "}\n",
      "\n",
      "int main() {\n",
      "    const int n = 10000;\n",
      "    const uint32_t initial_seed = 42;\n",
      "    const int min_val = -10;\n",
      "    const int max_val = 10;\n",
      "\n",
      "    // Measure the time taken\n",
      "    auto start_time = std::clock();\n",
      "    int64_t result = total_max_subarray_sum(n, initial_seed, min_val, max_val);\n",
      "    auto end_time = std::clock();\n",
      "\n",
      "    std::cout << \"Total Maximum Subarray Sum (20 runs): \" << result << std::endl;\n",
      "    std::cout << \"Execution Time: \" << std::fixed << (double)(end_time - start_time) / CLOCKS_PER_SEC << \" seconds\" << std::endl;\n",
      "\n",
      "    return 0;\n",
      "}\n",
      "```"
     ]
    }
   ],
   "source": [
    "optimize_gpt(python_hard)"
   ]
  },
  {
   "cell_type": "code",
   "execution_count": 19,
   "id": "4ee4744c",
   "metadata": {},
   "outputs": [
    {
     "name": "stdout",
     "output_type": "stream",
     "text": [
      "Total Maximum Subarray Sum (20 runs): 11720\n",
      "Execution Time: 0.000000 seconds\n"
     ]
    }
   ],
   "source": [
    "!g++ -O3 -std=c++17 -o optimized optimized.cpp\n",
    "!optimized.exe"
   ]
  },
  {
   "cell_type": "code",
   "execution_count": 20,
   "id": "1686669f",
   "metadata": {},
   "outputs": [
    {
     "name": "stdout",
     "output_type": "stream",
     "text": [
      "#include <iostream>\n",
      "#include <vector>\n",
      "#include <chrono>\n",
      "#include <limits>\n",
      "#include <iomanip>\n",
      "\n",
      "using namespace std;\n",
      "using namespace chrono;\n",
      "\n",
      "class LCG {\n",
      "private:\n",
      "    uint64_t value;\n",
      "    const uint64_t a = 1664525;\n",
      "    const uint64_t c = 1013904223;\n",
      "    const uint64_t m = (1ULL << 32);\n",
      "\n",
      "public:\n",
      "    LCG(uint64_t seed) : value(seed) {}\n",
      "\n",
      "    uint64_t next() {\n",
      "        value = (a * value + c) % m;\n",
      "        return value;\n",
      "    }\n",
      "};\n",
      "\n",
      "int64_t max_subarray_sum(int n, uint64_t seed, int min_val, int max_val) {\n",
      "    LCG lcg(seed);\n",
      "    vector<int64_t> random_numbers(n);\n",
      "    for (int i = 0; i < n; ++i) {\n",
      "        random_numbers[i] = lcg.next() % (max_val - min_val + 1) + min_val;\n",
      "    }\n",
      "\n",
      "    int64_t max_sum = numeric_limits<int64_t>::min();\n",
      "    int64_t current_sum = 0;\n",
      "    int64_t min_sum = 0;\n",
      "\n",
      "    for (int i = 0; i < n; ++i) {\n",
      "        current_sum += random_numbers[i];\n",
      "        max_sum = max(max_sum, current_sum - min_sum);\n",
      "        min_sum = min(min_sum, current_sum);\n",
      "    }\n",
      "\n",
      "    return max_sum;\n",
      "}\n",
      "\n",
      "int64_t total_max_subarray_sum(int n, uint64_t initial_seed, int min_val, int max_val) {\n",
      "    int64_t total_sum = 0;\n",
      "    LCG lcg(initial_seed);\n",
      "    for (int i = 0; i < 20; ++i) {\n",
      "        uint64_t seed = lcg.next();\n",
      "        total_sum += max_subarray_sum(n, seed, min_val, max_val);\n",
      "    }\n",
      "    return total_sum;\n",
      "}\n",
      "\n",
      "int main() {\n",
      "    int n = 10000;\n",
      "    uint64_t initial_seed = 42;\n",
      "    int min_val = -10;\n",
      "    int max_val = 10;\n",
      "\n",
      "    auto start_time = high_resolution_clock::now();\n",
      "    int64_t result = total_max_subarray_sum(n, initial_seed, min_val, max_val);\n",
      "    auto end_time = high_resolution_clock::now();\n",
      "\n",
      "    auto duration = duration_cast<microseconds>(end_time - start_time);\n",
      "\n",
      "    cout << \"Total Maximum Subarray Sum (20 runs): \" << result << endl;\n",
      "    cout << \"Execution Time: \" << fixed << setprecision(6) << duration.count() / 1e6 << \" seconds\" << endl;\n",
      "\n",
      "    return 0;\n",
      "}"
     ]
    }
   ],
   "source": [
    "optimize_claude(python_hard)"
   ]
  },
  {
   "cell_type": "code",
   "execution_count": 21,
   "id": "195c8361",
   "metadata": {},
   "outputs": [
    {
     "name": "stdout",
     "output_type": "stream",
     "text": [
      "Total Maximum Subarray Sum (20 runs): 10980\n",
      "Execution Time: 0.001031 seconds\n"
     ]
    }
   ],
   "source": [
    "!g++ -O3 -std=c++17 -o optimized optimized.cpp\n",
    "!optimized.exe"
   ]
  },
  {
   "cell_type": "code",
   "execution_count": 22,
   "id": "47ab2a4d",
   "metadata": {},
   "outputs": [],
   "source": [
    "def stream_gpt(python):\n",
    "    # Initiate a streaming completion request to the OpenAI API.\n",
    "    stream = openai.chat.completions.create(\n",
    "        model=OPENAI_MODEL,  # Specify the model to use (e.g., \"gpt-4o\").\n",
    "        messages=messages_for(python),  # Prepare the input messages based on the Python code.\n",
    "        stream=True  # Enable streaming for incremental response generation.\n",
    "    )\n",
    "    \n",
    "    reply = \"\"  # Initialize an empty string to store the response incrementally.\n",
    "\n",
    "    # Process the streamed response.\n",
    "    for chunk in stream:\n",
    "        # Extract the content from the current chunk or default to an empty string.\n",
    "        fragment = chunk.choices[0].delta.content or \"\"\n",
    "        \n",
    "        # Append the fragment to the accumulated reply.\n",
    "        reply += fragment\n",
    "\n",
    "        # Yield the current reply, removing specific markdown formatting.\n",
    "        yield reply.replace('```cpp\\n', '').replace('```', '')\n"
   ]
  },
  {
   "cell_type": "code",
   "execution_count": 23,
   "id": "b1283769",
   "metadata": {},
   "outputs": [],
   "source": [
    "def stream_claude(python):\n",
    "    # Initiate a streaming request to Claude's API with the specified parameters.\n",
    "    result = claude.messages.stream(\n",
    "        model=CLAUDE_MODEL,  # Specify the Claude model to use.\n",
    "        max_tokens=2000,  # Limit the response to a maximum of 2000 tokens.\n",
    "        system=system_message,  # Provide a system-level instruction or context.\n",
    "        messages=[{\"role\": \"user\", \"content\": user_prompt_for(python)}],  # Prepare the user message with the Python code.\n",
    "    )\n",
    "    \n",
    "    reply = \"\"  # Initialize an empty string to store the response incrementally.\n",
    "\n",
    "    # Process the streamed response.\n",
    "    with result as stream:  # Open the result as a stream.\n",
    "        for text in stream.text_stream:  # Iterate over each streamed text chunk.\n",
    "            reply += text  # Append the current text chunk to the accumulated reply.\n",
    "            # Yield the current reply, removing specific markdown formatting.\n",
    "            yield reply.replace('```cpp\\n', '').replace('```', '')\n"
   ]
  },
  {
   "cell_type": "code",
   "execution_count": 24,
   "id": "a7c94ab5",
   "metadata": {},
   "outputs": [],
   "source": [
    "def optimize(python, model):\n",
    "    # Determine which model to use and call the corresponding streaming function.\n",
    "    if model == \"GPT\":\n",
    "        result = stream_gpt(python)  # Call the GPT streaming function if the model is \"GPT\".\n",
    "    elif model == \"Claude\":\n",
    "        result = stream_claude(python)  # Call the Claude streaming function if the model is \"Claude\".\n",
    "    else:\n",
    "        # Raise an error if the model is not recognized.\n",
    "        raise ValueError(\"Unknown model\")\n",
    "    \n",
    "    # Process and yield the streamed results incrementally.\n",
    "    for stream_so_far in result:\n",
    "        yield stream_so_far\n"
   ]
  },
  {
   "cell_type": "code",
   "execution_count": 25,
   "id": "f780af52",
   "metadata": {},
   "outputs": [
    {
     "name": "stdout",
     "output_type": "stream",
     "text": [
      "Running on local URL:  http://127.0.0.1:7860\n",
      "\n",
      "To create a public link, set `share=True` in `launch()`.\n"
     ]
    },
    {
     "data": {
      "text/html": [
       "<div><iframe src=\"http://127.0.0.1:7860/\" width=\"100%\" height=\"500\" allow=\"autoplay; camera; microphone; clipboard-read; clipboard-write;\" frameborder=\"0\" allowfullscreen></iframe></div>"
      ],
      "text/plain": [
       "<IPython.core.display.HTML object>"
      ]
     },
     "metadata": {},
     "output_type": "display_data"
    },
    {
     "data": {
      "text/plain": []
     },
     "execution_count": 25,
     "metadata": {},
     "output_type": "execute_result"
    }
   ],
   "source": [
    "with gr.Blocks() as ui:  # Create a Gradio interface block.\n",
    "    with gr.Row():  # Define the first row of the UI.\n",
    "        python = gr.Textbox(label=\"Python code:\", lines=10, value=python_hard)  # Input for Python code.\n",
    "        cpp = gr.Textbox(label=\"C++ code:\", lines=10)  # Output for converted C++ code.\n",
    "    \n",
    "    with gr.Row():  # Define the second row of the UI.\n",
    "        model = gr.Dropdown([\"GPT\", \"Claude\"], label=\"Select model\", value=\"GPT\")  # Dropdown to select the model.\n",
    "        convert = gr.Button(\"Convert code\")  # Button to trigger code conversion.\n",
    "\n",
    "    # Link the 'convert' button to the 'optimize' function.\n",
    "    # Inputs: Python code and selected model.\n",
    "    # Outputs: Converted C++ code.\n",
    "    convert.click(optimize, inputs=[python, model], outputs=[cpp])\n",
    "\n",
    "ui.launch(inbrowser=True)  # Launch the Gradio UI in the browser."
   ]
  },
  {
   "cell_type": "code",
   "execution_count": 26,
   "id": "6142787a",
   "metadata": {},
   "outputs": [],
   "source": [
    "def execute_python(code):\n",
    "    try:\n",
    "        # Redirect standard output to a StringIO object to capture print statements.\n",
    "        output = io.StringIO()  # Create a StringIO object to store the output.\n",
    "        sys.stdout = output  # Redirect standard output to the StringIO object.\n",
    "        \n",
    "        # Execute the provided Python code string.\n",
    "        exec(code)\n",
    "    finally:\n",
    "        # Restore standard output to its original state to prevent side effects.\n",
    "        sys.stdout = sys.__stdout__\n",
    "    \n",
    "    # Return the captured output as a string.\n",
    "    return output.getvalue()\n",
    "\n"
   ]
  },
  {
   "cell_type": "code",
   "execution_count": 27,
   "id": "2d8145b2",
   "metadata": {},
   "outputs": [],
   "source": [
    "def execute_cpp(code):\n",
    "    # Save the provided C++ code to a file for compilation and execution.\n",
    "    write_output(code)\n",
    "    \n",
    "    try:\n",
    "        # Compile the C++ code with optimization flags for performance.\n",
    "        compile_cmd = [\n",
    "            \"g++\", \"-Ofast\", \"-std=c++17\",  # Optimization and C++17 standard.\n",
    "            \"-march=native\", \"-mtune=native\",  # Optimize for the native CPU architecture.\n",
    "            \"-o\", \"optimized\", \"optimized.cpp\"  # Output executable named \"optimized\".\n",
    "        ]\n",
    "        compile_result = subprocess.run(compile_cmd, check=True, text=True, capture_output=True)  # Compile the code.\n",
    "\n",
    "        # Run the compiled executable.\n",
    "        run_cmd = [\"./optimized\"]\n",
    "        run_result = subprocess.run(run_cmd, check=True, text=True, capture_output=True)  # Execute the compiled program.\n",
    "\n",
    "        # Return the standard output of the program execution.\n",
    "        return run_result.stdout\n",
    "    except subprocess.CalledProcessError as e:\n",
    "        # Return the error message if the compilation or execution fails.\n",
    "        return f\"An error occurred:\\n{e.stderr}\"\n"
   ]
  },
  {
   "cell_type": "code",
   "execution_count": 28,
   "id": "e5bf2abc",
   "metadata": {},
   "outputs": [],
   "source": [
    "css = \"\"\"\n",
    ".python {background-color: #306998;}  # Custom background for Python output.\n",
    ".cpp {background-color: #050;}  # Custom background for C++ output.\n",
    "\"\"\""
   ]
  },
  {
   "cell_type": "code",
   "execution_count": 29,
   "id": "f7411f4e",
   "metadata": {},
   "outputs": [
    {
     "name": "stdout",
     "output_type": "stream",
     "text": [
      "Running on local URL:  http://127.0.0.1:7861\n",
      "\n",
      "To create a public link, set `share=True` in `launch()`.\n"
     ]
    },
    {
     "data": {
      "text/html": [
       "<div><iframe src=\"http://127.0.0.1:7861/\" width=\"100%\" height=\"500\" allow=\"autoplay; camera; microphone; clipboard-read; clipboard-write;\" frameborder=\"0\" allowfullscreen></iframe></div>"
      ],
      "text/plain": [
       "<IPython.core.display.HTML object>"
      ]
     },
     "metadata": {},
     "output_type": "display_data"
    },
    {
     "data": {
      "text/plain": []
     },
     "execution_count": 29,
     "metadata": {},
     "output_type": "execute_result"
    }
   ],
   "source": [
    "with gr.Blocks(css=css) as ui:  # Define the Gradio UI with custom CSS styling.\n",
    "    gr.Markdown(\"## Convert code from Python to C++\")  # Add a title to the UI.\n",
    "\n",
    "    with gr.Row():  # Row for input textboxes.\n",
    "        python = gr.Textbox(label=\"Python code:\", value=python_hard, lines=10)  # Input for Python code.\n",
    "        cpp = gr.Textbox(label=\"C++ code:\", lines=10)  # Output for converted C++ code.\n",
    "\n",
    "    with gr.Row():  # Row for model selection dropdown.\n",
    "        model = gr.Dropdown([\"GPT\", \"Claude\"], label=\"Select model\", value=\"GPT\")  # Dropdown to select the model.\n",
    "\n",
    "    with gr.Row():  # Row for conversion button.\n",
    "        convert = gr.Button(\"Convert code\")  # Button to trigger code conversion.\n",
    "\n",
    "    with gr.Row():  # Row for execution buttons.\n",
    "        python_run = gr.Button(\"Run Python\")  # Button to execute the Python code.\n",
    "        cpp_run = gr.Button(\"Run C++\")  # Button to execute the C++ code.\n",
    "\n",
    "    with gr.Row():  # Row for output display areas.\n",
    "        python_out = gr.TextArea(label=\"Python result:\", elem_classes=[\"python\"])  # Display Python execution result.\n",
    "        cpp_out = gr.TextArea(label=\"C++ result:\", elem_classes=[\"cpp\"])  # Display C++ execution result.\n",
    "\n",
    "    # Link the conversion button to the optimize function.\n",
    "    convert.click(optimize, inputs=[python, model], outputs=[cpp])\n",
    "    # Link the Python execution button to the execute_python function.\n",
    "    python_run.click(execute_python, inputs=[python], outputs=[python_out])\n",
    "    # Link the C++ execution button to the execute_cpp function.\n",
    "    cpp_run.click(execute_cpp, inputs=[cpp], outputs=[cpp_out])\n",
    "\n",
    "ui.launch(inbrowser=True)  # Launch the Gradio interface in the browser.\n"
   ]
  }
 ],
 "metadata": {
  "kernelspec": {
   "display_name": "llms",
   "language": "python",
   "name": "llms"
  },
  "language_info": {
   "codemirror_mode": {
    "name": "ipython",
    "version": 3
   },
   "file_extension": ".py",
   "mimetype": "text/x-python",
   "name": "python",
   "nbconvert_exporter": "python",
   "pygments_lexer": "ipython3",
   "version": "3.11.10"
  }
 },
 "nbformat": 4,
 "nbformat_minor": 5
}
